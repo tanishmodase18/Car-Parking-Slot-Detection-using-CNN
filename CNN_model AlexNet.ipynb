{
 "cells": [
  {
   "cell_type": "markdown",
   "id": "787fe677",
   "metadata": {},
   "source": [
    "# Importing the libraries"
   ]
  },
  {
   "cell_type": "code",
   "execution_count": 1,
   "id": "1e27a7e9",
   "metadata": {},
   "outputs": [],
   "source": [
    "import numpy\n",
    "import os\n",
    "from tensorflow import keras\n",
    "# from keras import applications\n",
    "from keras.preprocessing.image import ImageDataGenerator\n",
    "from keras import optimizers\n",
    "from keras.models import Sequential, Model\n",
    "from keras.layers import Dropout, Flatten, Dense, Activation, Dropout, Conv2D, MaxPooling2D\n",
    "from keras.layers.normalization import batch_normalization\n",
    "from keras import backend as k\n",
    "from keras.callbacks import ModelCheckpoint, ReduceLROnPlateau, EarlyStopping"
   ]
  },
  {
   "cell_type": "markdown",
   "id": "c2171b1b",
   "metadata": {},
   "source": [
    "# Key Parameters"
   ]
  },
  {
   "cell_type": "code",
   "execution_count": 2,
   "id": "ed9732b8",
   "metadata": {},
   "outputs": [],
   "source": [
    "img_height, img_width = 224, 224\n",
    "\n",
    "training_data_dir = 'train_data/train'\n",
    "testing_data_dir = 'train_data/test'\n",
    "\n",
    "batch_size = 32\n",
    "epochs = 15\n",
    "num_classes = 2"
   ]
  },
  {
   "cell_type": "markdown",
   "id": "d5753db8",
   "metadata": {},
   "source": [
    "# Loading train and test data"
   ]
  },
  {
   "cell_type": "code",
   "execution_count": 3,
   "id": "99260d2c",
   "metadata": {},
   "outputs": [
    {
     "data": {
      "text/plain": [
       "(381, 164)"
      ]
     },
     "execution_count": 3,
     "metadata": {},
     "output_type": "execute_result"
    }
   ],
   "source": [
    "training_files = 0\n",
    "testing_files = 0\n",
    "\n",
    "for sub_folder in os.listdir(training_data_dir):\n",
    "    path, dirs, files = next(os.walk(os.path.join(training_data_dir,sub_folder)))\n",
    "    training_files += len(files)\n",
    "\n",
    "for sub_folder in os.listdir(testing_data_dir):\n",
    "    path, dirs, files = next(os.walk(os.path.join(testing_data_dir,sub_folder)))\n",
    "    testing_files += len(files)\n",
    "\n",
    "training_files, testing_files"
   ]
  },
  {
   "cell_type": "markdown",
   "id": "9c236c88",
   "metadata": {},
   "source": [
    "# Building a model using trained AlexNet"
   ]
  },
  {
   "cell_type": "code",
   "execution_count": 4,
   "id": "0c1c5200",
   "metadata": {},
   "outputs": [],
   "source": [
    "#Instantiation\n",
    "model = Sequential()"
   ]
  },
  {
   "cell_type": "code",
   "execution_count": 5,
   "id": "f46e9b87",
   "metadata": {},
   "outputs": [
    {
     "name": "stdout",
     "output_type": "stream",
     "text": [
      "Model: \"sequential\"\n",
      "_________________________________________________________________\n",
      " Layer (type)                Output Shape              Param #   \n",
      "=================================================================\n",
      " conv2d (Conv2D)             (None, 54, 54, 96)        34944     \n",
      "                                                                 \n",
      " activation (Activation)     (None, 54, 54, 96)        0         \n",
      "                                                                 \n",
      " max_pooling2d (MaxPooling2D  (None, 26, 26, 96)       0         \n",
      " )                                                               \n",
      "                                                                 \n",
      " conv2d_1 (Conv2D)           (None, 22, 22, 256)       614656    \n",
      "                                                                 \n",
      " activation_1 (Activation)   (None, 22, 22, 256)       0         \n",
      "                                                                 \n",
      " max_pooling2d_1 (MaxPooling  (None, 10, 10, 256)      0         \n",
      " 2D)                                                             \n",
      "                                                                 \n",
      " conv2d_2 (Conv2D)           (None, 8, 8, 384)         885120    \n",
      "                                                                 \n",
      " activation_2 (Activation)   (None, 8, 8, 384)         0         \n",
      "                                                                 \n",
      " conv2d_3 (Conv2D)           (None, 6, 6, 384)         1327488   \n",
      "                                                                 \n",
      " activation_3 (Activation)   (None, 6, 6, 384)         0         \n",
      "                                                                 \n",
      " conv2d_4 (Conv2D)           (None, 4, 4, 256)         884992    \n",
      "                                                                 \n",
      " activation_4 (Activation)   (None, 4, 4, 256)         0         \n",
      "                                                                 \n",
      " max_pooling2d_2 (MaxPooling  (None, 1, 1, 256)        0         \n",
      " 2D)                                                             \n",
      "                                                                 \n",
      " flatten (Flatten)           (None, 256)               0         \n",
      "                                                                 \n",
      " dense (Dense)               (None, 4096)              1052672   \n",
      "                                                                 \n",
      " activation_5 (Activation)   (None, 4096)              0         \n",
      "                                                                 \n",
      " dropout (Dropout)           (None, 4096)              0         \n",
      "                                                                 \n",
      " dense_1 (Dense)             (None, 4096)              16781312  \n",
      "                                                                 \n",
      " activation_6 (Activation)   (None, 4096)              0         \n",
      "                                                                 \n",
      " dropout_1 (Dropout)         (None, 4096)              0         \n",
      "                                                                 \n",
      " dense_2 (Dense)             (None, 1000)              4097000   \n",
      "                                                                 \n",
      " activation_7 (Activation)   (None, 1000)              0         \n",
      "                                                                 \n",
      " dense_3 (Dense)             (None, 2)                 2002      \n",
      "                                                                 \n",
      " activation_8 (Activation)   (None, 2)                 0         \n",
      "                                                                 \n",
      "=================================================================\n",
      "Total params: 25,680,186\n",
      "Trainable params: 25,680,186\n",
      "Non-trainable params: 0\n",
      "_________________________________________________________________\n"
     ]
    }
   ],
   "source": [
    "#1st convolutional layer\n",
    "model.add(Conv2D(filters=96, input_shape=(img_height,img_width,3), kernel_size=(11,11), strides=(4,4), padding='valid'))\n",
    "model.add(Activation('relu'))\n",
    "\n",
    "model.add(MaxPooling2D(pool_size=(3,3), strides=(2,2), padding='valid'))        # Max pooling\n",
    "\n",
    "#2nd convolutional layer\n",
    "model.add(Conv2D(filters=256, kernel_size=(5,5), strides=(1,1), padding='valid'))\n",
    "model.add(Activation('relu'))\n",
    "\n",
    "model.add(MaxPooling2D(pool_size=(3,3), strides=(2,2), padding='valid'))        # Max pooling\n",
    "\n",
    "#3rd convolutional layer\n",
    "model.add(Conv2D(filters=384, kernel_size=(3,3), strides=(1,1), padding='valid'))\n",
    "model.add(Activation('relu'))\n",
    "\n",
    "#4th convolutional layer\n",
    "model.add(Conv2D(filters=384, kernel_size=(3,3), strides=(1,1), padding='valid'))\n",
    "model.add(Activation('relu'))\n",
    "\n",
    "#5th convolutional layer\n",
    "model.add(Conv2D(filters=256, kernel_size=(3,3), strides=(1,1), padding='valid'))\n",
    "model.add(Activation('relu'))\n",
    "\n",
    "model.add(MaxPooling2D(pool_size=(3,3), strides=(2,2), padding='valid'))        # Max pooling\n",
    "\n",
    "#Passing to fully connected layer\n",
    "model.add(Flatten())\n",
    "\n",
    "#1st fully connected layer\n",
    "model.add(Dense(4096, input_shape=(img_height,img_width,3,)))\n",
    "model.add(Activation('relu'))\n",
    "\n",
    "model.add(Dropout(0.4))        # Add Dropout to prevent overfitting\n",
    "\n",
    "#2nd fully connected layer\n",
    "model.add(Dense(4096))\n",
    "model.add(Activation('relu'))\n",
    "\n",
    "model.add(Dropout(0.4))        # Add Dropout to prevent overfitting\n",
    "\n",
    "#3rd fully connected layer\n",
    "model.add(Dense(1000))\n",
    "model.add(Activation('relu'))\n",
    "\n",
    "#Output layer\n",
    "model.add(Dense(num_classes))\n",
    "model.add(Activation('softmax'))\n",
    "\n",
    "model.summary()"
   ]
  },
  {
   "cell_type": "code",
   "execution_count": 6,
   "id": "bc22a267",
   "metadata": {},
   "outputs": [],
   "source": [
    "model.compile(loss = keras.losses.categorical_crossentropy,\n",
    "                    optimizer = 'adam',\n",
    "                    metrics=[\"accuracy\"])"
   ]
  },
  {
   "cell_type": "code",
   "execution_count": 7,
   "id": "0f57df34",
   "metadata": {},
   "outputs": [
    {
     "name": "stdout",
     "output_type": "stream",
     "text": [
      "Found 381 images belonging to 2 classes.\n",
      "Found 164 images belonging to 2 classes.\n"
     ]
    }
   ],
   "source": [
    "# Initiate the train and test generators with data Augumentation\n",
    "train_datagen = ImageDataGenerator(\n",
    "rescale = 1./255,\n",
    "horizontal_flip = True,\n",
    "fill_mode = \"nearest\",\n",
    "zoom_range = 0.1,\n",
    "width_shift_range = 0.1,\n",
    "height_shift_range=0.1,\n",
    "rotation_range=5)\n",
    "\n",
    "test_datagen = ImageDataGenerator(\n",
    "rescale = 1./255,\n",
    "horizontal_flip = True,\n",
    "fill_mode = \"nearest\",\n",
    "zoom_range = 0.1,\n",
    "width_shift_range = 0.1,\n",
    "height_shift_range=0.1,\n",
    "rotation_range=5)\n",
    "\n",
    "train_generator = train_datagen.flow_from_directory(\n",
    "training_data_dir,\n",
    "target_size = (img_height, img_width),\n",
    "batch_size = batch_size,\n",
    "class_mode = \"categorical\")\n",
    "\n",
    "validation_generator = test_datagen.flow_from_directory(\n",
    "testing_data_dir,\n",
    "target_size = (img_height, img_width),\n",
    "class_mode = \"categorical\")"
   ]
  },
  {
   "cell_type": "code",
   "execution_count": 8,
   "id": "854e5764",
   "metadata": {},
   "outputs": [],
   "source": [
    "# Save the model according to the conditions\n",
    "checkpoint = ModelCheckpoint(\"car1.h5\", monitor='val_accuracy', verbose=1, save_best_only=True, mode='max')\n",
    "early = EarlyStopping(monitor='val_loss', min_delta=0.001, patience=3, verbose=1, mode='min')\n",
    "rlr = ReduceLROnPlateau(monitor='val_loss', factor=0.2, patience=3, verbose=1, min_lr=0.0001)"
   ]
  },
  {
   "cell_type": "code",
   "execution_count": 9,
   "id": "7b9bc8d6",
   "metadata": {
    "scrolled": false
   },
   "outputs": [
    {
     "name": "stdout",
     "output_type": "stream",
     "text": [
      "Epoch 1/15\n",
      "11/11 [==============================] - ETA: 0s - loss: 0.7594 - accuracy: 0.7135\n",
      "Epoch 1: val_accuracy improved from -inf to 0.76250, saving model to car1.h5\n",
      "11/11 [==============================] - 20s 2s/step - loss: 0.7594 - accuracy: 0.7135 - val_loss: 0.3990 - val_accuracy: 0.7625 - lr: 0.0010\n",
      "Epoch 2/15\n",
      "11/11 [==============================] - ETA: 0s - loss: 0.3399 - accuracy: 0.7851\n",
      "Epoch 2: val_accuracy improved from 0.76250 to 0.92500, saving model to car1.h5\n",
      "11/11 [==============================] - 14s 1s/step - loss: 0.3399 - accuracy: 0.7851 - val_loss: 0.3432 - val_accuracy: 0.9250 - lr: 0.0010\n",
      "Epoch 3/15\n",
      "11/11 [==============================] - ETA: 0s - loss: 0.2169 - accuracy: 0.9513\n",
      "Epoch 3: val_accuracy did not improve from 0.92500\n",
      "11/11 [==============================] - 12s 1s/step - loss: 0.2169 - accuracy: 0.9513 - val_loss: 0.3357 - val_accuracy: 0.8750 - lr: 0.0010\n",
      "Epoch 4/15\n",
      "11/11 [==============================] - ETA: 0s - loss: 0.2355 - accuracy: 0.8997\n",
      "Epoch 4: val_accuracy improved from 0.92500 to 0.95000, saving model to car1.h5\n",
      "11/11 [==============================] - 15s 1s/step - loss: 0.2355 - accuracy: 0.8997 - val_loss: 0.2406 - val_accuracy: 0.9500 - lr: 0.0010\n",
      "Epoch 5/15\n",
      "11/11 [==============================] - ETA: 0s - loss: 0.3024 - accuracy: 0.8883\n",
      "Epoch 5: val_accuracy did not improve from 0.95000\n",
      "11/11 [==============================] - 13s 1s/step - loss: 0.3024 - accuracy: 0.8883 - val_loss: 0.3696 - val_accuracy: 0.8687 - lr: 0.0010\n",
      "Epoch 6/15\n",
      "11/11 [==============================] - ETA: 0s - loss: 0.1555 - accuracy: 0.9456\n",
      "Epoch 6: val_accuracy improved from 0.95000 to 0.96250, saving model to car1.h5\n",
      "11/11 [==============================] - 15s 1s/step - loss: 0.1555 - accuracy: 0.9456 - val_loss: 0.3313 - val_accuracy: 0.9625 - lr: 0.0010\n",
      "Epoch 7/15\n",
      "11/11 [==============================] - ETA: 0s - loss: 0.2972 - accuracy: 0.9312\n",
      "Epoch 7: val_accuracy did not improve from 0.96250\n",
      "\n",
      "Epoch 7: ReduceLROnPlateau reducing learning rate to 0.00020000000949949026.\n",
      "11/11 [==============================] - 13s 1s/step - loss: 0.2972 - accuracy: 0.9312 - val_loss: 0.2938 - val_accuracy: 0.9187 - lr: 0.0010\n",
      "Epoch 7: early stopping\n"
     ]
    },
    {
     "data": {
      "text/plain": [
       "<keras.callbacks.History at 0x28ed1893d30>"
      ]
     },
     "execution_count": 9,
     "metadata": {},
     "output_type": "execute_result"
    }
   ],
   "source": [
    "### Start training!\n",
    "\n",
    "Model.fit(model, x=train_generator,\n",
    "           epochs=epochs,\n",
    "           callbacks=[checkpoint, early, rlr],\n",
    "           steps_per_epoch=training_files//batch_size,\n",
    "           validation_data=validation_generator,\n",
    "           validation_steps=testing_files//batch_size)"
   ]
  },
  {
   "cell_type": "code",
   "execution_count": 10,
   "id": "2d8e4b2a",
   "metadata": {},
   "outputs": [
    {
     "name": "stdout",
     "output_type": "stream",
     "text": [
      "dict_keys(['loss', 'accuracy', 'val_loss', 'val_accuracy', 'lr'])\n"
     ]
    },
    {
     "data": {
      "image/png": "[encoded data removed]",
      "text/plain": [
       "<Figure size 432x288 with 1 Axes>"
      ]
     },
     "metadata": {
      "needs_background": "light"
     },
     "output_type": "display_data"
    }
   ],
   "source": [
    "import matplotlib.pyplot as plt\n",
    "print(model.history.history.keys())\n",
    "plt.plot(model.history.history['accuracy'])\n",
    "plt.plot(model.history.history['val_accuracy'])\n",
    "plt.title('model accuracy')\n",
    "plt.ylabel('acc')\n",
    "plt.xlabel('epoch')\n",
    "plt.ylim((0.8,1.0))\n",
    "plt.grid()\n",
    "plt.legend(['train', 'test'], loc='upper left')\n",
    "plt.show()"
   ]
  },
  {
   "cell_type": "code",
   "execution_count": 13,
   "id": "7f45dfb2",
   "metadata": {},
   "outputs": [
    {
     "data": {
      "image/png": "[encoded data removed]",
      "text/plain": [
       "<Figure size 432x288 with 1 Axes>"
      ]
     },
     "metadata": {
      "needs_background": "light"
     },
     "output_type": "display_data"
    }
   ],
   "source": [
    "plt.plot(model.history.history['loss'])\n",
    "plt.plot(model.history.history['val_loss'])\n",
    "plt.title('model loss')\n",
    "plt.ylabel('loss')\n",
    "plt.xlabel('epoch')\n",
    "plt.ylim((0,0.5))\n",
    "plt.grid()\n",
    "plt.legend(['train', 'test'], loc='upper left')\n",
    "plt.show()"
   ]
  }
 ],
 "metadata": {
  "interpreter": {
   "hash": "52634da84371cba311ea128a5ea7cdc41ff074b781779e754b270ff9f8153cee"
  },
  "kernelspec": {
   "display_name": "Python 3 (ipykernel)",
   "language": "python",
   "name": "python3"
  },
  "language_info": {
   "codemirror_mode": {
    "name": "ipython",
    "version": 3
   },
   "file_extension": ".py",
   "mimetype": "text/x-python",
   "name": "python",
   "nbconvert_exporter": "python",
   "pygments_lexer": "ipython3",
   "version": "3.9.0"
  }
 },
 "nbformat": 4,
 "nbformat_minor": 5
}
